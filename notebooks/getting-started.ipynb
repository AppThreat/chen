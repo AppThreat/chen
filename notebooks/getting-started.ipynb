{
 "cells": [
  {
   "cell_type": "markdown",
   "id": "7ac43edf-5844-4fcb-b978-06acb2e9eee1",
   "metadata": {},
   "source": [
    "# Introduction\n",
    "\n",
    "Thank you for your interest in chen and the chennai console. These interactive notebooks introduce chen using the wrapper Python library called `chenpy`. The default docker-compose file from the chen repo starts the chennai console in server mode.\n",
    "\n",
    "Let's begin by testing the server with a simple `help` command."
   ]
  },
  {
   "cell_type": "code",
   "execution_count": 1,
   "id": "09bf3681-cbe1-4997-ac29-0be2ff3e8580",
   "metadata": {},
   "outputs": [
    {
     "data": {
      "text/html": [
       "<pre style=\"white-space:pre;overflow-x:auto;line-height:normal;font-family:Menlo,'DejaVu Sans Mono',consolas,'Courier New',monospace\">val res0: Helper = Welcome to the interactive help system. Below you find a table of all available\n",
       "top-level commands. To get more detailed help on a specific command, just type\n",
       "\n",
       "`help.<span style=\"font-weight: bold\">&lt;</span><span style=\"color: #ff00ff; text-decoration-color: #ff00ff; font-weight: bold\">command</span><span style=\"font-weight: bold\">&gt;</span>`.\n",
       "\n",
       "Try `help.importCode` to begin with.\n",
       "_______________________________________________________________________________________________________________________________________________________________\n",
       " command          | description                                                               | example                                                       |\n",
       "==============================================================================================================================================================|\n",
       " annotations      | List annotations                                                          | annotations                                                   |\n",
       " callTree         | Show call tree for the given method                                       | <span style=\"color: #800080; text-decoration-color: #800080; font-weight: bold\">callTree</span><span style=\"font-weight: bold\">(</span>method full name<span style=\"font-weight: bold\">)</span>                                    |\n",
       " close            | Close project by name                                                     | <span style=\"color: #800080; text-decoration-color: #800080; font-weight: bold\">close</span><span style=\"font-weight: bold\">(</span>projectName<span style=\"font-weight: bold\">)</span>                                            |\n",
       " cpg              | CPG of the active project                                                 | cpg.method.l                                                  |\n",
       " declarations     | List declarations                                                         | declarations                                                  |\n",
       " delete           | Close and remove project from disk                                        | <span style=\"color: #800080; text-decoration-color: #800080; font-weight: bold\">delete</span><span style=\"font-weight: bold\">(</span>projectName<span style=\"font-weight: bold\">)</span>                                           |\n",
       " distance         | Show graph edit distance from the source method to the comparison methods | <span style=\"color: #800080; text-decoration-color: #800080; font-weight: bold\">distance</span><span style=\"font-weight: bold\">(</span>source method iterator, comparison method iterators<span style=\"font-weight: bold\">)</span> |\n",
       " exit             | Exit the REPL                                                             |                                                               |\n",
       " files            | List files                                                                | files                                                         |\n",
       " importAtom       | Create new project from existing atom                                     | <span style=\"color: #800080; text-decoration-color: #800080; font-weight: bold\">importAtom</span><span style=\"font-weight: bold\">(</span><span style=\"color: #008000; text-decoration-color: #008000\">\"app.atom\"</span><span style=\"font-weight: bold\">)</span>                                        |\n",
       " importCode       | Create new project from code                                              | <span style=\"color: #800080; text-decoration-color: #800080; font-weight: bold\">importCode</span><span style=\"font-weight: bold\">(</span><span style=\"color: #008000; text-decoration-color: #008000\">\"git url or path\"</span><span style=\"font-weight: bold\">)</span>                                 |\n",
       " importCpg        | Create new project from existing CPG                                      | <span style=\"color: #800080; text-decoration-color: #800080; font-weight: bold\">importCpg</span><span style=\"font-weight: bold\">(</span><span style=\"color: #008000; text-decoration-color: #008000\">\"app.atom\"</span><span style=\"font-weight: bold\">)</span>                                         |\n",
       " imports          | List imports                                                              | imports                                                       |\n",
       " methods          | List methods                                                              | <span style=\"color: #800080; text-decoration-color: #800080; font-weight: bold\">methods</span><span style=\"font-weight: bold\">(</span><span style=\"color: #008000; text-decoration-color: #008000\">'Methods'</span>, <span style=\"color: #808000; text-decoration-color: #808000\">includeCalls</span>=<span style=\"color: #800080; text-decoration-color: #800080\">true</span>, <span style=\"color: #808000; text-decoration-color: #808000\">tree</span>=<span style=\"color: #800080; text-decoration-color: #800080\">true</span><span style=\"font-weight: bold\">)</span>              |\n",
       " open             | Open project by name                                                      | <span style=\"color: #800080; text-decoration-color: #800080; font-weight: bold\">open</span><span style=\"font-weight: bold\">(</span><span style=\"color: #008000; text-decoration-color: #008000\">\"projectName\"</span><span style=\"font-weight: bold\">)</span>                                           |\n",
       " openForInputPath | Open project for input path                                               |                                                               |\n",
       " project          | Currently active project                                                  | project                                                       |\n",
       " run              | Run analyzer on active CPG                                                | run.securityprofile                                           |\n",
       " save             | Write all changes to disk                                                 | save                                                          |\n",
       " sensitive        | List sensitive literals                                                   | sensitive                                                     |\n",
       " showSimilar      | Show methods similar to the given method                                  | <span style=\"color: #800080; text-decoration-color: #800080; font-weight: bold\">showSimilar</span><span style=\"font-weight: bold\">(</span>method full name<span style=\"font-weight: bold\">)</span>                                 |\n",
       " summary          | Display summary information                                               | summary                                                       |\n",
       " switchWorkspace  | Close current workspace and open a different one                          |                                                               |\n",
       " workspace        | Access to the workspace directory                                         | workspace                                                     |\n",
       "\n",
       "\n",
       "</pre>\n"
      ],
      "text/plain": [
       "val res0: Helper = Welcome to the interactive help system. Below you find a table of all available\n",
       "top-level commands. To get more detailed help on a specific command, just type\n",
       "\n",
       "`help.\u001b[1m<\u001b[0m\u001b[1;95mcommand\u001b[0m\u001b[1m>\u001b[0m`.\n",
       "\n",
       "Try `help.importCode` to begin with.\n",
       "_______________________________________________________________________________________________________________________________________________________________\n",
       " command          | description                                                               | example                                                       |\n",
       "==============================================================================================================================================================|\n",
       " annotations      | List annotations                                                          | annotations                                                   |\n",
       " callTree         | Show call tree for the given method                                       | \u001b[1;35mcallTree\u001b[0m\u001b[1m(\u001b[0mmethod full name\u001b[1m)\u001b[0m                                    |\n",
       " close            | Close project by name                                                     | \u001b[1;35mclose\u001b[0m\u001b[1m(\u001b[0mprojectName\u001b[1m)\u001b[0m                                            |\n",
       " cpg              | CPG of the active project                                                 | cpg.method.l                                                  |\n",
       " declarations     | List declarations                                                         | declarations                                                  |\n",
       " delete           | Close and remove project from disk                                        | \u001b[1;35mdelete\u001b[0m\u001b[1m(\u001b[0mprojectName\u001b[1m)\u001b[0m                                           |\n",
       " distance         | Show graph edit distance from the source method to the comparison methods | \u001b[1;35mdistance\u001b[0m\u001b[1m(\u001b[0msource method iterator, comparison method iterators\u001b[1m)\u001b[0m |\n",
       " exit             | Exit the REPL                                                             |                                                               |\n",
       " files            | List files                                                                | files                                                         |\n",
       " importAtom       | Create new project from existing atom                                     | \u001b[1;35mimportAtom\u001b[0m\u001b[1m(\u001b[0m\u001b[32m\"app.atom\"\u001b[0m\u001b[1m)\u001b[0m                                        |\n",
       " importCode       | Create new project from code                                              | \u001b[1;35mimportCode\u001b[0m\u001b[1m(\u001b[0m\u001b[32m\"git url or path\"\u001b[0m\u001b[1m)\u001b[0m                                 |\n",
       " importCpg        | Create new project from existing CPG                                      | \u001b[1;35mimportCpg\u001b[0m\u001b[1m(\u001b[0m\u001b[32m\"app.atom\"\u001b[0m\u001b[1m)\u001b[0m                                         |\n",
       " imports          | List imports                                                              | imports                                                       |\n",
       " methods          | List methods                                                              | \u001b[1;35mmethods\u001b[0m\u001b[1m(\u001b[0m\u001b[32m'Methods'\u001b[0m, \u001b[33mincludeCalls\u001b[0m=\u001b[35mtrue\u001b[0m, \u001b[33mtree\u001b[0m=\u001b[35mtrue\u001b[0m\u001b[1m)\u001b[0m              |\n",
       " open             | Open project by name                                                      | \u001b[1;35mopen\u001b[0m\u001b[1m(\u001b[0m\u001b[32m\"projectName\"\u001b[0m\u001b[1m)\u001b[0m                                           |\n",
       " openForInputPath | Open project for input path                                               |                                                               |\n",
       " project          | Currently active project                                                  | project                                                       |\n",
       " run              | Run analyzer on active CPG                                                | run.securityprofile                                           |\n",
       " save             | Write all changes to disk                                                 | save                                                          |\n",
       " sensitive        | List sensitive literals                                                   | sensitive                                                     |\n",
       " showSimilar      | Show methods similar to the given method                                  | \u001b[1;35mshowSimilar\u001b[0m\u001b[1m(\u001b[0mmethod full name\u001b[1m)\u001b[0m                                 |\n",
       " summary          | Display summary information                                               | summary                                                       |\n",
       " switchWorkspace  | Close current workspace and open a different one                          |                                                               |\n",
       " workspace        | Access to the workspace directory                                         | workspace                                                     |\n",
       "\n",
       "\n"
      ]
     },
     "metadata": {},
     "output_type": "display_data"
    }
   ],
   "source": [
    "from chenpy import client, workspace, utils\n",
    "from chenpy.detectors import common as atom\n",
    "from chenpy.logger import console\n",
    "\n",
    "connection = await client.get(\"http://chennai:8080\", None, \"chenadmin\", \"chenpassword\")\n",
    "res = await client.q(connection, \"help\")\n",
    "utils.print_table(res)"
   ]
  },
  {
   "cell_type": "markdown",
   "id": "ff661d9a-0e4b-4408-9a8d-baa07b2d1fbd",
   "metadata": {},
   "source": [
    "chenpy can interact with chennai server via websockets and seamlessly present the data in the form of tables and trees."
   ]
  },
  {
   "cell_type": "markdown",
   "id": "65c9b4c1-aab5-441f-8c99-ba39cf234db7",
   "metadata": {},
   "source": [
    "## Analyze a Java application\n",
    "\n",
    "The best way to learn about chennai is by analyzing a real application. Let's use a simple [vulnerable spring application](https://github.com/HooliCorp/vuln-spring) for this exercise.\n",
    "\n",
    "There is a convenient `import_code` function in the workspace module for importing code from git and other sources."
   ]
  },
  {
   "cell_type": "code",
   "execution_count": 2,
   "id": "7a3bf199-04e3-4448-8b1b-4dffea04cba4",
   "metadata": {},
   "outputs": [
    {
     "data": {
      "text/plain": [
       "True"
      ]
     },
     "execution_count": 2,
     "metadata": {},
     "output_type": "execute_result"
    }
   ],
   "source": [
    "await workspace.import_code(connection, \"https://github.com/HooliCorp/vuln-spring\", project_name=\"vuln-spring\", language=\"java\")"
   ]
  },
  {
   "cell_type": "code",
   "execution_count": 3,
   "id": "1ef9342c-fb72-41be-a5d1-ae729c666f7f",
   "metadata": {},
   "outputs": [
    {
     "data": {
      "text/html": [
       "<pre style=\"white-space:pre;overflow-x:auto;line-height:normal;font-family:Menlo,'DejaVu Sans Mono',consolas,'Courier New',monospace\">      Atom Summary      \n",
       "┏━━━━━━━━━━━━━━┳━━━━━━━┓\n",
       "┃ Node Type    ┃ Count ┃\n",
       "┡━━━━━━━━━━━━━━╇━━━━━━━┩\n",
       "│ Files        │ 4     │\n",
       "│ Methods      │ 113   │\n",
       "│ Annotations  │ 37    │\n",
       "│ Imports      │ 43    │\n",
       "│ Literals     │ 140   │\n",
       "│ Config Files │ 2     │\n",
       "│ Overlays     │ 4     │\n",
       "└──────────────┴───────┘\n",
       "      Atom Summary      \n",
       "┏━━━━━━━━━━━━━━┳━━━━━━━┓\n",
       "┃ Node Type    ┃ Count ┃\n",
       "┡━━━━━━━━━━━━━━╇━━━━━━━┩\n",
       "│ Files        │ 4     │\n",
       "│ Methods      │ 113   │\n",
       "│ Annotations  │ 37    │\n",
       "│ Imports      │ 43    │\n",
       "│ Literals     │ 140   │\n",
       "│ Config Files │ 2     │\n",
       "│ Overlays     │ 4     │\n",
       "└──────────────┴───────┘\n",
       "\n",
       "\n",
       "</pre>\n"
      ],
      "text/plain": [
       "      Atom Summary      \n",
       "┏━━━━━━━━━━━━━━┳━━━━━━━┓\n",
       "┃ Node Type    ┃ Count ┃\n",
       "┡━━━━━━━━━━━━━━╇━━━━━━━┩\n",
       "│ Files        │ 4     │\n",
       "│ Methods      │ 113   │\n",
       "│ Annotations  │ 37    │\n",
       "│ Imports      │ 43    │\n",
       "│ Literals     │ 140   │\n",
       "│ Config Files │ 2     │\n",
       "│ Overlays     │ 4     │\n",
       "└──────────────┴───────┘\n",
       "      Atom Summary      \n",
       "┏━━━━━━━━━━━━━━┳━━━━━━━┓\n",
       "┃ Node Type    ┃ Count ┃\n",
       "┡━━━━━━━━━━━━━━╇━━━━━━━┩\n",
       "│ Files        │ 4     │\n",
       "│ Methods      │ 113   │\n",
       "│ Annotations  │ 37    │\n",
       "│ Imports      │ 43    │\n",
       "│ Literals     │ 140   │\n",
       "│ Config Files │ 2     │\n",
       "│ Overlays     │ 4     │\n",
       "└──────────────┴───────┘\n",
       "\n",
       "\n"
      ]
     },
     "metadata": {},
     "output_type": "display_data"
    }
   ],
   "source": [
    "console.print(await atom.summary(connection))"
   ]
  },
  {
   "cell_type": "code",
   "execution_count": 4,
   "id": "c737e00c-786f-4d6c-8377-b098a6aee536",
   "metadata": {},
   "outputs": [
    {
     "data": {
      "text/html": [
       "<pre style=\"white-space:pre;overflow-x:auto;line-height:normal;font-family:Menlo,'DejaVu Sans Mono',consolas,'Courier New',monospace\">                                      Files                                       \n",
       "┏━━━━━━━━━━━━━━━━━━━━━━━━━━━━━━━━━━━━━━━━━━━━━━━━━━━━━━━━━━━━━━━━━┳━━━━━━━━━━━━━━┓\n",
       "┃ File Name                                                       ┃ Method Count ┃\n",
       "┡━━━━━━━━━━━━━━━━━━━━━━━━━━━━━━━━━━━━━━━━━━━━━━━━━━━━━━━━━━━━━━━━━╇━━━━━━━━━━━━━━┩\n",
       "│ <span style=\"color: #7c8082; text-decoration-color: #7c8082\">src/main/java/com/example/vulnspring/SessionFilter.java</span><span style=\"color: #ff753d; text-decoration-color: #ff753d\"> </span>        │ 2            │\n",
       "│ <span style=\"color: #7c8082; text-decoration-color: #7c8082\">src/main/java/com/example/vulnspring/VulnSpringApplication.java</span><span style=\"color: #ff753d; text-decoration-color: #ff753d\"> </span>│ 2            │\n",
       "│ <span style=\"color: #7c8082; text-decoration-color: #7c8082\">src/main/java/com/example/vulnspring/WebController.java</span><span style=\"color: #ff753d; text-decoration-color: #ff753d\"> </span>        │ 25           │\n",
       "└─────────────────────────────────────────────────────────────────┴──────────────┘\n",
       "\n",
       "\n",
       "</pre>\n"
      ],
      "text/plain": [
       "                                      Files                                       \n",
       "┏━━━━━━━━━━━━━━━━━━━━━━━━━━━━━━━━━━━━━━━━━━━━━━━━━━━━━━━━━━━━━━━━━┳━━━━━━━━━━━━━━┓\n",
       "┃ File Name                                                       ┃ Method Count ┃\n",
       "┡━━━━━━━━━━━━━━━━━━━━━━━━━━━━━━━━━━━━━━━━━━━━━━━━━━━━━━━━━━━━━━━━━╇━━━━━━━━━━━━━━┩\n",
       "│ \u001b[38;5;243msrc/main/java/com/example/vulnspring/\u001b[0m\u001b[38;5;243mSessionFilter.java\u001b[0m\u001b[38;5;209m \u001b[0m        │ 2            │\n",
       "│ \u001b[38;5;243msrc/main/java/com/example/vulnspring/\u001b[0m\u001b[38;5;243mVulnSpringApplication.java\u001b[0m\u001b[38;5;209m \u001b[0m│ 2            │\n",
       "│ \u001b[38;5;243msrc/main/java/com/example/vulnspring/\u001b[0m\u001b[38;5;243mWebController.java\u001b[0m\u001b[38;5;209m \u001b[0m        │ 25           │\n",
       "└─────────────────────────────────────────────────────────────────┴──────────────┘\n",
       "\n",
       "\n"
      ]
     },
     "metadata": {},
     "output_type": "display_data"
    }
   ],
   "source": [
    "console.print(await atom.files(connection))"
   ]
  },
  {
   "cell_type": "code",
   "execution_count": 5,
   "id": "cb9c17ed-99fc-4e94-8d43-bcbbe8380016",
   "metadata": {},
   "outputs": [
    {
     "data": {
      "text/html": [
       "<pre style=\"white-space:pre;overflow-x:auto;line-height:normal;font-family:Menlo,'DejaVu Sans Mono',consolas,'Courier New',monospace\">                                                                                                             Methods                                                                                                              \n",
       "┏━━━━━━━━━━━━━━━━━━━━━━━━━━━━━━━━━━━━━━━━━━━━━━━━━━━━━━━━━━━━━━━━━┳━━━━━━━━━━━━━━━━━━━━━━━━━━━━━━━━━━━━━━━━━━━━━━━━━━━━━━━━━━━━━━━━━━━━━━━━━━━━━━━━━━━━━━━━━━━━━━━━━━━━━━━━━━━━━━━━━━━━━━━━━━━━━━━━━━━━━━━━━━━━━━━━━━━━━━━━━━━━━━┓\n",
       "┃ File Name                                                       ┃ Methods                                                                                                                                                      ┃\n",
       "┡━━━━━━━━━━━━━━━━━━━━━━━━━━━━━━━━━━━━━━━━━━━━━━━━━━━━━━━━━━━━━━━━━╇━━━━━━━━━━━━━━━━━━━━━━━━━━━━━━━━━━━━━━━━━━━━━━━━━━━━━━━━━━━━━━━━━━━━━━━━━━━━━━━━━━━━━━━━━━━━━━━━━━━━━━━━━━━━━━━━━━━━━━━━━━━━━━━━━━━━━━━━━━━━━━━━━━━━━━━━━━━━━━┩\n",
       "│ <span style=\"color: #7c8082; text-decoration-color: #7c8082\">src/main/java/com/example/vulnspring/SessionFilter.java         │ com.example.vulnspring.SessionFilter.doFilter:void(javax.servlet.ServletRequest,javax.servlet.ServletResponse,javax.servlet.FilterChain</span>)                     │\n",
       "│                                                                 │ <span style=\"color: #ff753d; text-decoration-color: #ff753d\">com.example.vulnspring.SessionFilter.</span>&lt;<span style=\"color: #7c8082; text-decoration-color: #7c8082\">init</span>&gt;:void()                                                                                                           │\n",
       "├─────────────────────────────────────────────────────────────────┼──────────────────────────────────────────────────────────────────────────────────────────────────────────────────────────────────────────────────────────────┤\n",
       "│ <span style=\"color: #7c8082; text-decoration-color: #7c8082\">src/main/java/com/example/vulnspring/VulnSpringApplication.java │ com.example.vulnspring.VulnSpringApplication.main:void(java.lang.String</span><span style=\"color: #ff753d; text-decoration-color: #ff753d\">[</span>])                                                                                   │\n",
       "│                                                                 │ <span style=\"color: #ff753d; text-decoration-color: #ff753d\">com.example.vulnspring.VulnSpringApplication.</span>&lt;<span style=\"color: #7c8082; text-decoration-color: #7c8082\">init</span>&gt;:void()                                                                                                   │\n",
       "├─────────────────────────────────────────────────────────────────┼──────────────────────────────────────────────────────────────────────────────────────────────────────────────────────────────────────────────────────────────┤\n",
       "│ <span style=\"color: #7c8082; text-decoration-color: #7c8082\">src/main/java/com/example/vulnspring/WebController.java         │ com.example.vulnspring.WebController.home:java.lang.String(org.springframework.ui.Model,javax.servlet.http.HttpSession</span>)                                      │\n",
       "│                                                                 │ <span style=\"color: #ff753d; text-decoration-color: #ff753d\">com.example.vulnspring.WebController.login</span>:<span style=\"color: #ff753d; text-decoration-color: #ff753d\">java.lang.String</span>(<span style=\"color: #ff753d; text-decoration-color: #ff753d\">org.springframework.ui.Model</span>)                                                                    │\n",
       "│                                                                 │ <span style=\"color: #ff753d; text-decoration-color: #ff753d\">com.example.vulnspring.WebController.login</span>:<span style=\"color: #ff753d; text-decoration-color: #ff753d\">java.lang.String</span>(<span style=\"color: #ff753d; text-decoration-color: #ff753d\">javax.servlet.http.HttpSession</span>,<span style=\"color: #ff753d; text-decoration-color: #ff753d\">java.lang.String</span>,<span style=\"color: #ff753d; text-decoration-color: #ff753d\">java.lang.String</span>,<span style=\"color: #ff753d; text-decoration-color: #ff753d\">org.springframework.ui.Model</span>)   │\n",
       "│                                                                 │ <span style=\"color: #ff753d; text-decoration-color: #ff753d\">com.example.vulnspring.WebController.loginSuccess</span>:boolean(<span style=\"color: #ff753d; text-decoration-color: #ff753d\">java.lang.String</span>,<span style=\"color: #ff753d; text-decoration-color: #ff753d\">java.lang.String</span>)                                                                 │\n",
       "│                                                                 │ <span style=\"color: #ff753d; text-decoration-color: #ff753d\">com.example.vulnspring.WebController.logout</span>:<span style=\"color: #ff753d; text-decoration-color: #ff753d\">java.lang.String</span>(<span style=\"color: #ff753d; text-decoration-color: #ff753d\">javax.servlet.http.HttpSession</span>)                                                                 │\n",
       "│                                                                 │ <span style=\"color: #ff753d; text-decoration-color: #ff753d\">com.example.vulnspring.WebController.update</span>:<span style=\"color: #ff753d; text-decoration-color: #ff753d\">java.lang.String</span>(<span style=\"color: #ff753d; text-decoration-color: #ff753d\">javax.servlet.http.HttpSession</span>,<span style=\"color: #ff753d; text-decoration-color: #ff753d\">org.springframework.ui.Model</span>)                                    │\n",
       "│                                                                 │ <span style=\"color: #ff753d; text-decoration-color: #ff753d\">com.example.vulnspring.WebController.update</span>:<span style=\"color: #ff753d; text-decoration-color: #ff753d\">java.lang.String</span>(<span style=\"color: #ff753d; text-decoration-color: #ff753d\">javax.servlet.http.HttpSession</span>,<span style=\"color: #ff753d; text-decoration-color: #ff753d\">java.lang.String</span>,<span style=\"color: #ff753d; text-decoration-color: #ff753d\">org.springframework.ui.Model</span>)                   │\n",
       "│                                                                 │ <span style=\"color: #ff753d; text-decoration-color: #ff753d\">com.example.vulnspring.WebController.checkDB</span>:<span style=\"color: #ff753d; text-decoration-color: #ff753d\">java.lang.String</span>(<span style=\"color: #ff753d; text-decoration-color: #ff753d\">java.lang.String</span>,<span style=\"color: #ff753d; text-decoration-color: #ff753d\">org.springframework.ui.Model</span>)                                                 │\n",
       "│                                                                 │ <span style=\"color: #ff753d; text-decoration-color: #ff753d\">com.example.vulnspring.WebController.checkDB</span>:<span style=\"color: #ff753d; text-decoration-color: #ff753d\">java.lang.String</span>()                                                                                              │\n",
       "│                                                                 │ <span style=\"color: #ff753d; text-decoration-color: #ff753d\">com.example.vulnspring.WebController.transfer</span>:<span style=\"color: #ff753d; text-decoration-color: #ff753d\">java.lang.String</span>(<span style=\"color: #ff753d; text-decoration-color: #ff753d\">javax.servlet.http.HttpSession</span>,<span style=\"color: #ff753d; text-decoration-color: #ff753d\">org.springframework.ui.Model</span>)                                  │\n",
       "│                                                                 │ <span style=\"color: #ff753d; text-decoration-color: #ff753d\">com.example.vulnspring.WebController.transfer</span>:<span style=\"color: #ff753d; text-decoration-color: #ff753d\">java.lang.String</span>(<span style=\"color: #ff753d; text-decoration-color: #ff753d\">javax.servlet.http.HttpSession</span>,<span style=\"color: #ff753d; text-decoration-color: #ff753d\">java.lang.String</span>,<span style=\"color: #ff753d; text-decoration-color: #ff753d\">java.lang.Float</span>,<span style=\"color: #ff753d; text-decoration-color: #ff753d\">org.springframework.ui.Model</span>) │\n",
       "│                                                                 │ <span style=\"color: #ff753d; text-decoration-color: #ff753d\">com.example.vulnspring.WebController.issue</span>:<span style=\"color: #ff753d; text-decoration-color: #ff753d\">java.lang.String</span>(<span style=\"color: #ff753d; text-decoration-color: #ff753d\">org.springframework.ui.Model</span>)                                                                    │\n",
       "│                                                                 │ <span style=\"color: #ff753d; text-decoration-color: #ff753d\">com.example.vulnspring.WebController.issue</span>:<span style=\"color: #ff753d; text-decoration-color: #ff753d\">java.lang.String</span>(<span style=\"color: #ff753d; text-decoration-color: #ff753d\">org.springframework.ui.Model</span>,<span style=\"color: #ff753d; text-decoration-color: #ff753d\">java.lang.String</span>)                                                   │\n",
       "│                                                                 │ <span style=\"color: #ff753d; text-decoration-color: #ff753d\">com.example.vulnspring.WebController.getNodeString</span>:<span style=\"color: #ff753d; text-decoration-color: #ff753d\">java.lang.StringBuffer</span>(<span style=\"color: #ff753d; text-decoration-color: #ff753d\">org.w3c.dom.Node</span>,<span style=\"color: #ff753d; text-decoration-color: #ff753d\">java.lang.StringBuffer</span>)                                           │\n",
       "│                                                                 │ <span style=\"color: #ff753d; text-decoration-color: #ff753d\">com.example.vulnspring.WebController.support</span>:<span style=\"color: #ff753d; text-decoration-color: #ff753d\">java.lang.String</span>(<span style=\"color: #ff753d; text-decoration-color: #ff753d\">java.lang.String</span>)                                                                              │\n",
       "│                                                                 │ <span style=\"color: #ff753d; text-decoration-color: #ff753d\">com.example.vulnspring.WebController.support</span>:<span style=\"color: #ff753d; text-decoration-color: #ff753d\">java.lang.String</span>(<span style=\"color: #ff753d; text-decoration-color: #ff753d\">org.springframework.ui.Model</span>)                                                                  │\n",
       "│                                                                 │ <span style=\"color: #ff753d; text-decoration-color: #ff753d\">com.example.vulnspring.WebController.jwt</span>:<span style=\"color: #ff753d; text-decoration-color: #ff753d\">java.lang.String</span>(<span style=\"color: #ff753d; text-decoration-color: #ff753d\">javax.servlet.http.HttpSession</span>,<span style=\"color: #ff753d; text-decoration-color: #ff753d\">org.springframework.ui.Model</span>)                                       │\n",
       "│                                                                 │ <span style=\"color: #ff753d; text-decoration-color: #ff753d\">com.example.vulnspring.WebController.jwt</span>:<span style=\"color: #ff753d; text-decoration-color: #ff753d\">java.lang.String</span>(<span style=\"color: #ff753d; text-decoration-color: #ff753d\">org.springframework.ui.Model</span>,<span style=\"color: #ff753d; text-decoration-color: #ff753d\">java.lang.String</span>,<span style=\"color: #ff753d; text-decoration-color: #ff753d\">javax.servlet.http.HttpSession</span>)                      │\n",
       "│                                                                 │ <span style=\"color: #ff753d; text-decoration-color: #ff753d\">com.example.vulnspring.WebController.addressValidation</span>:<span style=\"color: #ff753d; text-decoration-color: #ff753d\">java.lang.String</span>(<span style=\"color: #ff753d; text-decoration-color: #ff753d\">org.springframework.ui.Model</span>)                                                        │\n",
       "│                                                                 │ <span style=\"color: #ff753d; text-decoration-color: #ff753d\">com.example.vulnspring.WebController.addressValidation</span>:<span style=\"color: #ff753d; text-decoration-color: #ff753d\">java.lang.String</span>(<span style=\"color: #ff753d; text-decoration-color: #ff753d\">org.springframework.ui.Model</span>,<span style=\"color: #ff753d; text-decoration-color: #ff753d\">java.lang.String</span>)                                       │\n",
       "│                                                                 │ <span style=\"color: #ff753d; text-decoration-color: #ff753d\">com.example.vulnspring.WebController.</span>&lt;<span style=\"color: #7c8082; text-decoration-color: #7c8082\">init</span>&gt;:void()                                                                                                           │\n",
       "│                                                                 │ <span style=\"color: #ff753d; text-decoration-color: #ff753d\">com.example.vulnspring.AddressDetails.getStreetNumber</span>:int()                                                                                                  │\n",
       "│                                                                 │ <span style=\"color: #ff753d; text-decoration-color: #ff753d\">com.example.vulnspring.AddressDetails.getStreetName</span>:<span style=\"color: #ff753d; text-decoration-color: #ff753d\">java.lang.String</span>()                                                                                       │\n",
       "│                                                                 │ <span style=\"color: #ff753d; text-decoration-color: #ff753d\">com.example.vulnspring.AddressDetails.</span>&lt;<span style=\"color: #7c8082; text-decoration-color: #7c8082\">init</span>&gt;:void(int,<span style=\"color: #ff753d; text-decoration-color: #ff753d\">java.lang.String</span>)                                                                                      │\n",
       "│                                                                 │ <span style=\"color: #ff753d; text-decoration-color: #ff753d\">com.example.vulnspring.AddressDetails.toString</span>:<span style=\"color: #ff753d; text-decoration-color: #ff753d\">java.lang.String</span>()                                                                                            │\n",
       "└─────────────────────────────────────────────────────────────────┴──────────────────────────────────────────────────────────────────────────────────────────────────────────────────────────────────────────────────────────────┘\n",
       "\n",
       "\n",
       "</pre>\n"
      ],
      "text/plain": [
       "                                                                                                             Methods                                                                                                              \n",
       "┏━━━━━━━━━━━━━━━━━━━━━━━━━━━━━━━━━━━━━━━━━━━━━━━━━━━━━━━━━━━━━━━━━┳━━━━━━━━━━━━━━━━━━━━━━━━━━━━━━━━━━━━━━━━━━━━━━━━━━━━━━━━━━━━━━━━━━━━━━━━━━━━━━━━━━━━━━━━━━━━━━━━━━━━━━━━━━━━━━━━━━━━━━━━━━━━━━━━━━━━━━━━━━━━━━━━━━━━━━━━━━━━━━┓\n",
       "┃ File Name                                                       ┃ Methods                                                                                                                                                      ┃\n",
       "┡━━━━━━━━━━━━━━━━━━━━━━━━━━━━━━━━━━━━━━━━━━━━━━━━━━━━━━━━━━━━━━━━━╇━━━━━━━━━━━━━━━━━━━━━━━━━━━━━━━━━━━━━━━━━━━━━━━━━━━━━━━━━━━━━━━━━━━━━━━━━━━━━━━━━━━━━━━━━━━━━━━━━━━━━━━━━━━━━━━━━━━━━━━━━━━━━━━━━━━━━━━━━━━━━━━━━━━━━━━━━━━━━━┩\n",
       "│ \u001b[38;5;243msrc/main/java/com/example/vulnspring/\u001b[0m\u001b[38;5;243mSessionFilter.java \u001b[0m\u001b[38;5;243m        │ \u001b[0m\u001b[38;5;243mcom.example.vulnspring.SessionFilter.doFilter\u001b[0m\u001b[38;5;243m:void(\u001b[0m\u001b[38;5;243mjavax.servlet.ServletRequest\u001b[0m\u001b[38;5;243m,\u001b[0m\u001b[38;5;243mjavax.servlet.ServletResponse\u001b[0m\u001b[38;5;243m,\u001b[0m\u001b[38;5;243mjavax.servlet.FilterChain\u001b[0m)                     │\n",
       "│                                                                 │ \u001b[38;5;209mcom.example.vulnspring.SessionFilter.\u001b[0m<\u001b[38;5;243minit\u001b[0m>:void()                                                                                                           │\n",
       "├─────────────────────────────────────────────────────────────────┼──────────────────────────────────────────────────────────────────────────────────────────────────────────────────────────────────────────────────────────────┤\n",
       "│ \u001b[38;5;243msrc/main/java/com/example/vulnspring/\u001b[0m\u001b[38;5;243mVulnSpringApplication.java \u001b[0m\u001b[38;5;243m│ \u001b[0m\u001b[38;5;243mcom.example.vulnspring.VulnSpringApplication.main\u001b[0m\u001b[38;5;243m:void(\u001b[0m\u001b[38;5;243mjava.lang.String\u001b[0m\u001b[38;5;209m[\u001b[0m])                                                                                   │\n",
       "│                                                                 │ \u001b[38;5;209mcom.example.vulnspring.VulnSpringApplication.\u001b[0m<\u001b[38;5;243minit\u001b[0m>:void()                                                                                                   │\n",
       "├─────────────────────────────────────────────────────────────────┼──────────────────────────────────────────────────────────────────────────────────────────────────────────────────────────────────────────────────────────────┤\n",
       "│ \u001b[38;5;243msrc/main/java/com/example/vulnspring/\u001b[0m\u001b[38;5;243mWebController.java \u001b[0m\u001b[38;5;243m        │ \u001b[0m\u001b[38;5;243mcom.example.vulnspring.WebController.home\u001b[0m\u001b[38;5;243m:\u001b[0m\u001b[38;5;243mjava.lang.String\u001b[0m\u001b[38;5;243m(\u001b[0m\u001b[38;5;243morg.springframework.ui.Model\u001b[0m\u001b[38;5;243m,\u001b[0m\u001b[38;5;243mjavax.servlet.http.HttpSession\u001b[0m)                                      │\n",
       "│                                                                 │ \u001b[38;5;209mcom.example.vulnspring.WebController.login\u001b[0m:\u001b[38;5;209mjava.lang.String\u001b[0m(\u001b[38;5;209morg.springframework.ui.Model\u001b[0m)                                                                    │\n",
       "│                                                                 │ \u001b[38;5;209mcom.example.vulnspring.WebController.login\u001b[0m:\u001b[38;5;209mjava.lang.String\u001b[0m(\u001b[38;5;209mjavax.servlet.http.HttpSession\u001b[0m,\u001b[38;5;209mjava.lang.String\u001b[0m,\u001b[38;5;209mjava.lang.String\u001b[0m,\u001b[38;5;209morg.springframework.ui.Model\u001b[0m)   │\n",
       "│                                                                 │ \u001b[38;5;209mcom.example.vulnspring.WebController.loginSuccess\u001b[0m:boolean(\u001b[38;5;209mjava.lang.String\u001b[0m,\u001b[38;5;209mjava.lang.String\u001b[0m)                                                                 │\n",
       "│                                                                 │ \u001b[38;5;209mcom.example.vulnspring.WebController.logout\u001b[0m:\u001b[38;5;209mjava.lang.String\u001b[0m(\u001b[38;5;209mjavax.servlet.http.HttpSession\u001b[0m)                                                                 │\n",
       "│                                                                 │ \u001b[38;5;209mcom.example.vulnspring.WebController.update\u001b[0m:\u001b[38;5;209mjava.lang.String\u001b[0m(\u001b[38;5;209mjavax.servlet.http.HttpSession\u001b[0m,\u001b[38;5;209morg.springframework.ui.Model\u001b[0m)                                    │\n",
       "│                                                                 │ \u001b[38;5;209mcom.example.vulnspring.WebController.update\u001b[0m:\u001b[38;5;209mjava.lang.String\u001b[0m(\u001b[38;5;209mjavax.servlet.http.HttpSession\u001b[0m,\u001b[38;5;209mjava.lang.String\u001b[0m,\u001b[38;5;209morg.springframework.ui.Model\u001b[0m)                   │\n",
       "│                                                                 │ \u001b[38;5;209mcom.example.vulnspring.WebController.checkDB\u001b[0m:\u001b[38;5;209mjava.lang.String\u001b[0m(\u001b[38;5;209mjava.lang.String\u001b[0m,\u001b[38;5;209morg.springframework.ui.Model\u001b[0m)                                                 │\n",
       "│                                                                 │ \u001b[38;5;209mcom.example.vulnspring.WebController.checkDB\u001b[0m:\u001b[38;5;209mjava.lang.String\u001b[0m()                                                                                              │\n",
       "│                                                                 │ \u001b[38;5;209mcom.example.vulnspring.WebController.transfer\u001b[0m:\u001b[38;5;209mjava.lang.String\u001b[0m(\u001b[38;5;209mjavax.servlet.http.HttpSession\u001b[0m,\u001b[38;5;209morg.springframework.ui.Model\u001b[0m)                                  │\n",
       "│                                                                 │ \u001b[38;5;209mcom.example.vulnspring.WebController.transfer\u001b[0m:\u001b[38;5;209mjava.lang.String\u001b[0m(\u001b[38;5;209mjavax.servlet.http.HttpSession\u001b[0m,\u001b[38;5;209mjava.lang.String\u001b[0m,\u001b[38;5;209mjava.lang.Float\u001b[0m,\u001b[38;5;209morg.springframework.ui.Model\u001b[0m) │\n",
       "│                                                                 │ \u001b[38;5;209mcom.example.vulnspring.WebController.issue\u001b[0m:\u001b[38;5;209mjava.lang.String\u001b[0m(\u001b[38;5;209morg.springframework.ui.Model\u001b[0m)                                                                    │\n",
       "│                                                                 │ \u001b[38;5;209mcom.example.vulnspring.WebController.issue\u001b[0m:\u001b[38;5;209mjava.lang.String\u001b[0m(\u001b[38;5;209morg.springframework.ui.Model\u001b[0m,\u001b[38;5;209mjava.lang.String\u001b[0m)                                                   │\n",
       "│                                                                 │ \u001b[38;5;209mcom.example.vulnspring.WebController.getNodeString\u001b[0m:\u001b[38;5;209mjava.lang.StringBuffer\u001b[0m(\u001b[38;5;209morg.w3c.dom.Node\u001b[0m,\u001b[38;5;209mjava.lang.StringBuffer\u001b[0m)                                           │\n",
       "│                                                                 │ \u001b[38;5;209mcom.example.vulnspring.WebController.support\u001b[0m:\u001b[38;5;209mjava.lang.String\u001b[0m(\u001b[38;5;209mjava.lang.String\u001b[0m)                                                                              │\n",
       "│                                                                 │ \u001b[38;5;209mcom.example.vulnspring.WebController.support\u001b[0m:\u001b[38;5;209mjava.lang.String\u001b[0m(\u001b[38;5;209morg.springframework.ui.Model\u001b[0m)                                                                  │\n",
       "│                                                                 │ \u001b[38;5;209mcom.example.vulnspring.WebController.jwt\u001b[0m:\u001b[38;5;209mjava.lang.String\u001b[0m(\u001b[38;5;209mjavax.servlet.http.HttpSession\u001b[0m,\u001b[38;5;209morg.springframework.ui.Model\u001b[0m)                                       │\n",
       "│                                                                 │ \u001b[38;5;209mcom.example.vulnspring.WebController.jwt\u001b[0m:\u001b[38;5;209mjava.lang.String\u001b[0m(\u001b[38;5;209morg.springframework.ui.Model\u001b[0m,\u001b[38;5;209mjava.lang.String\u001b[0m,\u001b[38;5;209mjavax.servlet.http.HttpSession\u001b[0m)                      │\n",
       "│                                                                 │ \u001b[38;5;209mcom.example.vulnspring.WebController.addressValidation\u001b[0m:\u001b[38;5;209mjava.lang.String\u001b[0m(\u001b[38;5;209morg.springframework.ui.Model\u001b[0m)                                                        │\n",
       "│                                                                 │ \u001b[38;5;209mcom.example.vulnspring.WebController.addressValidation\u001b[0m:\u001b[38;5;209mjava.lang.String\u001b[0m(\u001b[38;5;209morg.springframework.ui.Model\u001b[0m,\u001b[38;5;209mjava.lang.String\u001b[0m)                                       │\n",
       "│                                                                 │ \u001b[38;5;209mcom.example.vulnspring.WebController.\u001b[0m<\u001b[38;5;243minit\u001b[0m>:void()                                                                                                           │\n",
       "│                                                                 │ \u001b[38;5;209mcom.example.vulnspring.AddressDetails.getStreetNumber\u001b[0m:int()                                                                                                  │\n",
       "│                                                                 │ \u001b[38;5;209mcom.example.vulnspring.AddressDetails.getStreetName\u001b[0m:\u001b[38;5;209mjava.lang.String\u001b[0m()                                                                                       │\n",
       "│                                                                 │ \u001b[38;5;209mcom.example.vulnspring.AddressDetails.\u001b[0m<\u001b[38;5;243minit\u001b[0m>:void(int,\u001b[38;5;209mjava.lang.String\u001b[0m)                                                                                      │\n",
       "│                                                                 │ \u001b[38;5;209mcom.example.vulnspring.AddressDetails.toString\u001b[0m:\u001b[38;5;209mjava.lang.String\u001b[0m()                                                                                            │\n",
       "└─────────────────────────────────────────────────────────────────┴──────────────────────────────────────────────────────────────────────────────────────────────────────────────────────────────────────────────────────────────┘\n",
       "\n",
       "\n"
      ]
     },
     "metadata": {},
     "output_type": "display_data"
    }
   ],
   "source": [
    "console.print(await atom.methods(connection))"
   ]
  }
 ],
 "metadata": {
  "kernelspec": {
   "display_name": "Python 3 (ipykernel)",
   "language": "python",
   "name": "python3"
  },
  "language_info": {
   "codemirror_mode": {
    "name": "ipython",
    "version": 3
   },
   "file_extension": ".py",
   "mimetype": "text/x-python",
   "name": "python",
   "nbconvert_exporter": "python",
   "pygments_lexer": "ipython3",
   "version": "3.11.4"
  }
 },
 "nbformat": 4,
 "nbformat_minor": 5
}
